{
  "nbformat": 4,
  "nbformat_minor": 0,
  "metadata": {
    "colab": {
      "provenance": [],
      "authorship_tag": "ABX9TyPaPoUzc6MM4XdM0hiKoFzM",
      "include_colab_link": true
    },
    "kernelspec": {
      "name": "python3",
      "display_name": "Python 3"
    },
    "language_info": {
      "name": "python"
    }
  },
  "cells": [
    {
      "cell_type": "markdown",
      "metadata": {
        "id": "view-in-github",
        "colab_type": "text"
      },
      "source": [
        "<a href=\"https://colab.research.google.com/github/zainabbasi38/Chatbots/blob/main/function_calling.ipynb\" target=\"_parent\"><img src=\"https://colab.research.google.com/assets/colab-badge.svg\" alt=\"Open In Colab\"/></a>"
      ]
    },
    {
      "cell_type": "code",
      "source": [
        "!pip install langchain langchain-community langchain-google-genai"
      ],
      "metadata": {
        "id": "lvH2zbUyHMVr"
      },
      "execution_count": null,
      "outputs": []
    },
    {
      "cell_type": "code",
      "source": [
        "from langchain_google_genai import ChatGoogleGenerativeAI\n",
        "from google.colab import userdata\n",
        "GEMINI_API_KEY = userdata.get('GEMINI_API_KEY')"
      ],
      "metadata": {
        "id": "p1vuOlnM3TAW"
      },
      "execution_count": null,
      "outputs": []
    },
    {
      "cell_type": "code",
      "source": [
        "llm = ChatGoogleGenerativeAI(api_key =GEMINI_API_KEY, model= \"gemini-1.5-flash\" , verbose=True)\n",
        "llm.invoke(\"Hi\")"
      ],
      "metadata": {
        "id": "qbcRfZ95HOq1"
      },
      "execution_count": null,
      "outputs": []
    },
    {
      "cell_type": "code",
      "source": [
        "from langchain_core.tools import tool\n",
        "\n",
        "@tool\n",
        "def add(a : int , b : int):\n",
        "  \"\"\"Add a and b\n",
        "  Args:\n",
        "  a : a is first int\n",
        "  b : b is second int\n",
        "  \"\"\"\n",
        "  return a + b\n",
        "\n",
        "@tool\n",
        "def subtract(a : int , b : int):\n",
        "  \"\"\"\n",
        "  Subtract a and b\n",
        "  a : a is first int\n",
        "  b : b is second int\n",
        "  \"\"\"\n",
        "  return a - b\n",
        "\n",
        "\n",
        "llm_with_tools = llm.bind_tools([add , subtract])"
      ],
      "metadata": {
        "id": "X8dOB6WdFoj1"
      },
      "execution_count": null,
      "outputs": []
    },
    {
      "cell_type": "code",
      "source": [
        "tool_list = [add , subtract]\n",
        "model_with_tools = llm.bind_tools(tool_list)"
      ],
      "metadata": {
        "id": "Ualbp-eKJjbp"
      },
      "execution_count": null,
      "outputs": []
    },
    {
      "cell_type": "code",
      "source": [
        "result = model_with_tools.invoke('subtract 2 and 5')\n",
        "print(result)"
      ],
      "metadata": {
        "id": "dh4S18DiHSSS"
      },
      "execution_count": null,
      "outputs": []
    },
    {
      "cell_type": "code",
      "source": [
        "from langchain.tools import Tool\n",
        "\n",
        "def add(a , b):\n",
        "  return a + b\n",
        "\n",
        "def subtract(a , b):\n",
        "  return a - b\n",
        "\n",
        "math_tool = Tool(\n",
        "    name=\"add\",\n",
        "    func=lambda x: f\"The result is: {add(*map(int, x.split()))}\",\n",
        "    description=\"Adds two numbers. Input should be two integers separated by a space.\"\n",
        ")\n",
        "math_tool_2 = Tool(\n",
        "    name=\"subtract\",\n",
        "    func=lambda x: f\"The result is: {subtract(*map(int, x.split()))}\",\n",
        "    description=\"subtract two numbers. Input should be two integers separated by a space.\"\n",
        ")\n"
      ],
      "metadata": {
        "id": "k1eYKmz8MM4F"
      },
      "execution_count": null,
      "outputs": []
    },
    {
      "cell_type": "code",
      "source": [
        "from langchain.agents import initialize_agent, AgentType\n",
        "\n",
        "tools = [math_tool , math_tool_2]\n",
        "\n",
        "agent = initialize_agent(\n",
        "    tools= tools,\n",
        "    llm = llm,\n",
        "    agent = AgentType.ZERO_SHOT_REACT_DESCRIPTION,\n",
        "    verbose= True\n",
        ")"
      ],
      "metadata": {
        "id": "rYoJ4B6TNMwe"
      },
      "execution_count": null,
      "outputs": []
    },
    {
      "cell_type": "code",
      "source": [
        "response = agent.run(\"add 10 and 20 and then add 30  \")\n",
        "print(response)"
      ],
      "metadata": {
        "id": "5UwdiVtWHUyL"
      },
      "execution_count": null,
      "outputs": []
    }
  ]
}